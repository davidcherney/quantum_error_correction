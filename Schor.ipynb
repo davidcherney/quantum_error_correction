{
 "cells": [
  {
   "attachments": {},
   "cell_type": "markdown",
   "id": "20ccbf22-99e8-4475-b7ba-0e7ace3e9665",
   "metadata": {},
   "source": [
    "# Quantum Error Correction\n",
    "\n",
    "### Three bit effective qubits\n",
    "The quantum analog to the classical three bit replication code \n",
    "$$\n",
    "\\begin{align}\n",
    "a \\vert 0 \\rangle + b\\vert 1\\rangle \\mapsto~\n",
    "&~~CX_{13}CX_{12}\\big( a \\vert 0 \\rangle + b\\vert 1\\rangle \\big)\\vert 00\\rangle \\\\\n",
    "&= CX_{13}\\big( a \\vert 00 \\rangle + b\\vert 11\\rangle \\big)\\vert 0\\rangle \\\\\n",
    "&= a \\vert 000\\rangle + b\\vert 111\\rangle  \n",
    "\\end{align}\n",
    "$$\n",
    "yields the effective qubit state $a \\vert 000\\rangle + b\\vert 111\\rangle$. \n",
    "\n",
    "\n",
    "## Bit errors\n",
    "If transmission of the three bit effective qubit state is subject to bit wise binary symmetric channel noise with via the Kraus operator $E_{p,\\text{bit}}$ such that an $n$-qubit state's density operators $\\rho$ are modified as\n",
    "$$\n",
    "E_{p,\\text{bit}}(\\rho) = (1-p)\\rho + p X\\rho X \n",
    "$$\n",
    "then error correction can be done with \n",
    "$$\n",
    "{\\cal E}_{\\text{corr}} = P_0 + \\sum_i X_i P_i\n",
    "$$\n",
    "where $X_i$ is Pauli X applied to the $i$th qubit and\n",
    "$$\n",
    "\\begin{align}\n",
    "P_0 = \\vert 000 \\rangle \\langle  000 \\vert + \\vert 111 \\rangle \\langle 111\\vert ,\\\\\n",
    "P_1 = \\vert 100 \\rangle \\langle  100 \\vert + \\vert 011 \\rangle \\langle 011\\vert ,\\\\\n",
    "P_0 = \\vert 010 \\rangle \\langle  010 \\vert + \\vert 101 \\rangle \\langle 101\\vert, \\\\\n",
    "P_0 = \\vert 001 \\rangle \\langle  001 \\vert + \\vert 110 \\rangle \\langle 110\\vert \\,.\\\\\n",
    "\\end{align}\n",
    "$$\n",
    "\n",
    "\n",
    "The probability of a 2 bit error is the same as in classical 3 bit repetition code. Two qubit errors are not corrected. \n",
    "\n",
    "The matrix of ${\\cal E}_{\\text{corr}}$ is calculated below. "
   ]
  },
  {
   "cell_type": "code",
   "execution_count": 3,
   "id": "8691f2f4-9648-423e-87f0-6e2d1caab72e",
   "metadata": {},
   "outputs": [
    {
     "data": {
      "text/plain": [
       "QubitUnitary(array([[1., 1., 1., 0., 1., 0., 0., 0.],\n",
       "       [0., 0., 0., 0., 0., 0., 0., 0.],\n",
       "       [0., 0., 0., 0., 0., 0., 0., 0.],\n",
       "       [0., 0., 0., 0., 0., 0., 0., 0.],\n",
       "       [0., 0., 0., 0., 0., 0., 0., 0.],\n",
       "       [0., 0., 0., 0., 0., 0., 0., 0.],\n",
       "       [0., 0., 0., 0., 0., 0., 0., 0.],\n",
       "       [0., 0., 0., 1., 0., 1., 1., 1.]]), wires=[0, 1, 2])"
      ]
     },
     "execution_count": 3,
     "metadata": {},
     "output_type": "execute_result"
    }
   ],
   "source": [
    "import numpy as np\n",
    "import pennylane as qml\n",
    "\n",
    "first_kets = np.array([[0,0,0],[1,0,0],[0,1,0],[0,0,1]])\n",
    "second_kets = np.array([(ket + 1)%2 for ket in first_kets])\n",
    "\n",
    "Ps = np.array([np.zeros((8,8)) for _ in range(4)])\n",
    "for i in range(4):\n",
    "    first_index  = np.ravel_multi_index(first_kets[i], [2]*3)\n",
    "    second_index = np.ravel_multi_index(second_kets[i],[2]*3)\n",
    "    Ps[i,first_index,first_index] = 1\n",
    "    Ps[i,second_index,second_index] = 1\n",
    "\n",
    "X = np.array([[0,1],[1,0]])\n",
    "I = np.eye(2)\n",
    "Xs = [np.eye(8) ,\n",
    "      np.kron(np.kron(X,I),I),\n",
    "      np.kron(np.kron(I,X),I),\n",
    "      np.kron(np.kron(I,I),X)\n",
    "     ]\n",
    "\n",
    "E = sum([ Xs[i]@Ps[i] for i in range(4)])\n",
    "E = qml.QubitUnitary(E, wires =range(3))\n",
    "E # The fluent reader can see here that E is the right matrix. "
   ]
  },
  {
   "cell_type": "code",
   "execution_count": 631,
   "id": "d4e18da3-feaf-40e3-b377-650b50f4bb28",
   "metadata": {},
   "outputs": [
    {
     "data": {
      "text/plain": [
       "array([1., 0., 0., 0., 0., 0., 0., 0.])"
      ]
     },
     "execution_count": 631,
     "metadata": {},
     "output_type": "execute_result"
    }
   ],
   "source": [
    "corrupted_logical_qubit = [0,0,1]\n",
    "corrupted_state = np.zeros(8) # Initializing\n",
    "corrupted_state[np.ravel_multi_index(corrupted_logical_qubit,[2]*3)] = 1 # one non-zero component \n",
    "E = sum( [ Xs[i]@Ps[i] for i in range(4)])\n",
    "E@corrupted_state\n",
    "#Should be corrected to 000 = [1,0,....,0] "
   ]
  },
  {
   "cell_type": "markdown",
   "id": "eb588dc2-5507-4ea8-9d8d-8fc6ea65584c",
   "metadata": {},
   "source": [
    "This matrix is equivalent to $MCX_{120}CX_{02}CX_{01}$. but getting PennyLane to show that matrix to me seems a little difficult. "
   ]
  },
  {
   "cell_type": "code",
   "execution_count": 681,
   "id": "0795c0ca-e578-46de-9f6d-4448f11cbd71",
   "metadata": {},
   "outputs": [
    {
     "data": {
      "text/plain": [
       "array([[1., 0., 0., 0., 0., 0., 0., 0.],\n",
       "       [0., 1., 0., 0., 0., 0., 0., 0.],\n",
       "       [0., 0., 1., 0., 0., 0., 0., 0.],\n",
       "       [0., 0., 0., 1., 0., 0., 0., 0.],\n",
       "       [0., 0., 0., 0., 1., 0., 0., 0.],\n",
       "       [0., 0., 0., 0., 0., 1., 0., 0.],\n",
       "       [0., 0., 0., 0., 0., 0., 0., 1.],\n",
       "       [0., 0., 0., 0., 0., 0., 1., 0.]])"
      ]
     },
     "execution_count": 681,
     "metadata": {},
     "output_type": "execute_result"
    }
   ],
   "source": [
    "# Not working for me :(\n",
    "mat1 = (qml.CNOT(wires = [0,1])@qml.I(wires=[2])).matrix()\n",
    "mat2 = (qml.CNOT(wires = [0,2])@qml.I(wires=[1])).matrix()\n",
    "mat3 = (qml.Toffoli(wires = [1,2,0])).matrix()\n",
    "mat3@mat2@mat1"
   ]
  },
  {
   "cell_type": "code",
   "execution_count": null,
   "id": "a7c33587-a2aa-44d7-ac77-e9e88881b9a0",
   "metadata": {},
   "outputs": [],
   "source": []
  },
  {
   "cell_type": "markdown",
   "id": "8581b3f1-6ea6-4b0e-90b2-0b4ac6ea8f70",
   "metadata": {},
   "source": [
    "## Phase flip\n",
    "\n",
    "For correcting a phase flip (which is a flip by $Z$, analagous to how a bit flip is a flip by $X$)\n",
    "further encode with $H^{\\otimes 3}$ to get \n",
    "$$\n",
    "\\begin{align}\n",
    "a \\vert 0 \\rangle + b\\vert 1\\rangle \\mapsto~\n",
    "&~~H^{\\otimes 3} CX_{13}CX_{12}\\big( a \\vert 0 \\rangle + b\\vert 1\\rangle \\big)\\vert 00\\rangle \\\\\n",
    "&= H^3 \\big(a\\vert 00 0\\rangle + b\\vert 111\\rangle\\big) \\\\ \n",
    "&=  a\\vert +++ \\rangle + b\\vert ---\\rangle\\big) \\\\ \n",
    "\\end{align}\n",
    "$$\n",
    "\n",
    "In transmission, a phase flip may occur, e.g in the first component giving \n",
    "$$\n",
    "\\vert -++ \\rangle + b\\vert +--\\rangle\\big) \\\\ \n",
    "$$\n",
    "This can be corrected by applying $H^3$ to get \n",
    "$$\n",
    "\\vert 100 \\rangle + b\\vert 011\\rangle\\big) \\\\ \n",
    "$$\n",
    "and then applying the bit error correction. \n",
    "\n",
    "I'm a little concerned that bit flip and phase flip corrections seem to requre diferent pre-transmission encoding; surely there is a way to do both. "
   ]
  }
 ],
 "metadata": {
  "kernelspec": {
   "display_name": "qecc",
   "language": "python",
   "name": "qecc"
  },
  "language_info": {
   "codemirror_mode": {
    "name": "ipython",
    "version": 3
   },
   "file_extension": ".py",
   "mimetype": "text/x-python",
   "name": "python",
   "nbconvert_exporter": "python",
   "pygments_lexer": "ipython3",
   "version": "3.12.4"
  }
 },
 "nbformat": 4,
 "nbformat_minor": 5
}
